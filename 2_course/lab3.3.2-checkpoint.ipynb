{
 "cells": [
  {
   "cell_type": "code",
   "execution_count": 35,
   "metadata": {},
   "outputs": [],
   "source": [
    "import matplotlib.pyplot as plt\n",
    "import scipy.stats as st\n",
    "import numpy as np\n",
    "from scipy.interpolate import interp1d"
   ]
  },
  {
   "cell_type": "code",
   "execution_count": 7,
   "metadata": {},
   "outputs": [],
   "source": [
    "V = []\n",
    "for i in range(25):\n",
    "    if i == 0:\n",
    "        V.append(0)\n",
    "    elif i < 13:\n",
    "        V.append(0)\n",
    "        V[i] = V[i - 1] +0.5\n",
    "    elif i < 17:\n",
    "        V.append(0)\n",
    "        V[i] = V[i - 1] +1\n",
    "    else:\n",
    "        V.append(0)\n",
    "        V[i] = V[i - 1] +5"
   ]
  },
  {
   "cell_type": "code",
   "execution_count": 8,
   "metadata": {
    "scrolled": true
   },
   "outputs": [
    {
     "data": {
      "text/plain": [
       "[0,\n",
       " 0.5,\n",
       " 1.0,\n",
       " 1.5,\n",
       " 2.0,\n",
       " 2.5,\n",
       " 3.0,\n",
       " 3.5,\n",
       " 4.0,\n",
       " 4.5,\n",
       " 5.0,\n",
       " 5.5,\n",
       " 6.0,\n",
       " 7.0,\n",
       " 8.0,\n",
       " 9.0,\n",
       " 10.0,\n",
       " 15.0,\n",
       " 20.0,\n",
       " 25.0,\n",
       " 30.0,\n",
       " 35.0,\n",
       " 40.0,\n",
       " 45.0,\n",
       " 50.0]"
      ]
     },
     "execution_count": 8,
     "metadata": {},
     "output_type": "execute_result"
    }
   ],
   "source": [
    "V"
   ]
  },
  {
   "cell_type": "code",
   "execution_count": 18,
   "metadata": {},
   "outputs": [],
   "source": [
    "I_1 = [0,3.73,12.95,25.30,38.43,57.07,74.42,94.90,113.23,139.10,159.50,184.30,212.45,269.60,327.40,394.46,464.76,894.7,1395.9,1981.3,2633.0,3317.0,4052.4,4793.5,5540]\n",
    "I_2 = [0.63,6.40,17.21,31.65,47.92,66.68,84.70,106.37,130.51,153.38,177.60,205.67,232.72,289.38,354.10,422.15,493.68,939.8,1449.1,2058.5,2727.6,3448.9,4218.0,5114,5986]\n",
    "I_3 = [2.00,12.81,25.42,41.36,59.65,81.27,100.00,124.17,146.88,170.00,197.77,222.57,255.30,311.02,377.71,449.45,565.4,986.7,1501.8,2117.7,2799.6,3535.2,4310.7,5212,6105]\n",
    "I_4 = [5.85,20.15,33.72,52.20,72.86,92.86,114.78,137.00,163.42,191.51,215.20,245.32,275.85,338.45,406.76,515.7,592.7,1028.3,1559.3,2188.7,2877.7,3613.0,4400.0,5318,6221]\n"
   ]
  },
  {
   "cell_type": "code",
   "execution_count": 19,
   "metadata": {},
   "outputs": [
    {
     "data": {
      "text/plain": [
       "<matplotlib.collections.PathCollection at 0x4b81570>"
      ]
     },
     "execution_count": 19,
     "metadata": {},
     "output_type": "execute_result"
    },
    {
     "data": {
      "image/png": "[encoded data removed]",
      "text/plain": [
       "<Figure size 432x288 with 1 Axes>"
      ]
     },
     "metadata": {
      "needs_background": "light"
     },
     "output_type": "display_data"
    }
   ],
   "source": [
    "plt.scatter(V, I_4)"
   ]
  },
  {
   "cell_type": "code",
   "execution_count": 28,
   "metadata": {},
   "outputs": [
    {
     "data": {
      "image/png": "[encoded data removed]",
      "text/plain": [
       "<Figure size 432x288 with 1 Axes>"
      ]
     },
     "metadata": {
      "needs_background": "light"
     },
     "output_type": "display_data"
    }
   ],
   "source": [
    "fig, ax = plt.subplots()\n",
    "for i in range(len(V)):                              \n",
    "    x =  V[i]**1.5\n",
    "    y = I_1[i]\n",
    "    ax.plot(x, y, 'bo')"
   ]
  },
  {
   "cell_type": "code",
   "execution_count": 17,
   "metadata": {},
   "outputs": [
    {
     "data": {
      "text/plain": [
       "26"
      ]
     },
     "execution_count": 17,
     "metadata": {},
     "output_type": "execute_result"
    }
   ],
   "source": [
    "print(st.linregress().slope)"
   ]
  },
  {
   "cell_type": "code",
   "execution_count": 41,
   "metadata": {},
   "outputs": [
    {
     "name": "stdout",
     "output_type": "stream",
     "text": [
      "15.895597688772977\n"
     ]
    },
    {
     "data": {
      "image/png": "[encoded data removed]",
      "text/plain": [
       "<Figure size 432x288 with 1 Axes>"
      ]
     },
     "metadata": {
      "needs_background": "light"
     },
     "output_type": "display_data"
    }
   ],
   "source": [
    "xdata = []\n",
    "y = I_1\n",
    "for i in range(len(V)):                              \n",
    "    xdata.append(V[i]**1.5)\n",
    "xnew = xdata\n",
    "f1 = interp1d(xdata, y, kind='linear')\n",
    "plt.plot(xdata, y, 'o', xnew, f1(xnew), '-')\n",
    "print(st.linregress(xdata, y).slope)\n",
    "plt.show()"
   ]
  },
  {
   "cell_type": "code",
   "execution_count": null,
   "metadata": {},
   "outputs": [],
   "source": []
  }
 ],
 "metadata": {
  "kernelspec": {
   "display_name": "Python 3",
   "language": "python",
   "name": "python3"
  },
  "language_info": {
   "codemirror_mode": {
    "name": "ipython",
    "version": 3
   },
   "file_extension": ".py",
   "mimetype": "text/x-python",
   "name": "python",
   "nbconvert_exporter": "python",
   "pygments_lexer": "ipython3",
   "version": "3.7.4"
  }
 },
 "nbformat": 4,
 "nbformat_minor": 2
}
